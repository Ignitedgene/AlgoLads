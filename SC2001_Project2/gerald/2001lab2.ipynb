{
 "cells": [
  {
   "cell_type": "code",
   "execution_count": 1,
   "metadata": {},
   "outputs": [],
   "source": [
    "from matplotlib import pyplot as plt\n",
    "import pandas as pd\n",
    "import numpy as np\n",
    "import random\n",
    "import sys"
   ]
  },
  {
   "cell_type": "code",
   "execution_count": 2,
   "metadata": {},
   "outputs": [],
   "source": [
    "# generate random graph\n",
    "def generateGraph(V,E):\n",
    "    maxE = V * V-1\n",
    "    if (E > maxE):\n",
    "         print(\"Error\")\n",
    "         return\n",
    "    adjMat = [[0]*V for i in range(V)]\n",
    "    for _ in range(E):\n",
    "        while (True):\n",
    "            j,k = random.sample(range(V),2)\n",
    "            if (adjMat[j][k] == 0):\n",
    "                    adjMat[j][k] = random.randint(1,10)\n",
    "                    break\n",
    "    return adjMat\n",
    "\n",
    "def printAdjMat(adjMat):\n",
    "    for row in adjMat:\n",
    "        for val in row:\n",
    "            print(val, end=' ')\n",
    "        print()"
   ]
  },
  {
   "cell_type": "code",
   "execution_count": 3,
   "metadata": {},
   "outputs": [],
   "source": [
    "# dijkstra algo with lists\n",
    "\n",
    "import sys\n",
    "import time\n",
    "\n",
    "queue_len = 0\n",
    "queue = [None] * 10000\n",
    "\n",
    "class PQItem:\n",
    "    def __init__(self, node, priority):\n",
    "        self.node = node\n",
    "        self.priority = priority\n",
    "\n",
    "def insert(node, priority):\n",
    "    global queue_len\n",
    "    item = PQItem(node, priority)\n",
    "    queue[queue_len] = item\n",
    "    queue_len += 1\n",
    "    # binary search\n",
    "    left, right = 0, queue_len-1\n",
    "    while left < right:\n",
    "        mid = (left + right) // 2\n",
    "        if queue[mid].priority <= priority:\n",
    "            right = mid\n",
    "        else:\n",
    "            left = mid + 1\n",
    "    # insert the new item at the correct position\n",
    "    for i in range(queue_len-1, left, -1):\n",
    "        queue[i] = queue[i-1]\n",
    "    queue[left] = item\n",
    "\n",
    "def delete(node):\n",
    "    global queue_len\n",
    "    i = 0\n",
    "    found = False\n",
    "    while (i < queue_len):\n",
    "        if queue[i].node == node:\n",
    "            found = True\n",
    "            queue_len -= 1\n",
    "        if found and i < queue_len:\n",
    "            queue[i] = queue[i+1]\n",
    "        i += 1\n",
    "    \n",
    "def arrayDij(adjMat, src, V):\n",
    "    dist = [sys.maxsize] * V\n",
    "    S = [0] * V\n",
    "    for i in range(V):\n",
    "        dist[i] = sys.maxsize\n",
    "        if (i == src):\n",
    "            dist[i] = 0\n",
    "        S[i] = 0\n",
    "        insert(i, dist[i])\n",
    "        \n",
    "    while queue_len > 0:\n",
    "        minNode = queue[0]\n",
    "        S[minNode.node] = 1\n",
    "        for i in range(V):\n",
    "            if dist[minNode.node] != sys.maxsize and S[i] == 0 and adjMat[minNode.node][i] != 0 and (dist[minNode.node] + adjMat[minNode.node][i]) < dist[i]:\n",
    "                dist[i] = dist[minNode.node] + adjMat[minNode.node][i]\n",
    "                delete(i)\n",
    "                insert(i, dist[i])\n",
    "        delete(minNode.node)\n",
    "\n",
    "def arrayDijRuntime(graph):\n",
    "    global queue, queue_len\n",
    "    queue = [None] * len(graph)\n",
    "    queue_len = 0\n",
    "    start = time.time()\n",
    "    arrayDij(graph,0,len(graph))\n",
    "    return time.time() - start"
   ]
  },
  {
   "cell_type": "code",
   "execution_count": 4,
   "metadata": {},
   "outputs": [],
   "source": [
    "from heapq import *\n",
    "import sys\n",
    "import time\n",
    "\n",
    "def convert_matrix_to_list(matrix):\n",
    "    # Get the number of nodes in the graph\n",
    "    num_nodes = len(matrix)\n",
    "    \n",
    "    # Initialize an empty dictionary to represent the graph\n",
    "    graph = {}\n",
    "    \n",
    "    # Iterate over each row in the matrix\n",
    "    for i in range(num_nodes):\n",
    "        # Initialize an empty list to represent the neighbors of the current node\n",
    "        neighbors = []\n",
    "        \n",
    "        # Iterate over each column in the matrix\n",
    "        for j in range(num_nodes):\n",
    "            # If the weight of the edge is non-zero, add the neighbor to the list\n",
    "            if matrix[i][j] != 0:\n",
    "                neighbors.append((j, matrix[i][j]))\n",
    "        \n",
    "        # Add the list of neighbors to the graph dictionary with the node as the key\n",
    "        graph[i] = neighbors\n",
    "    \n",
    "    return graph\n",
    "\n",
    "\n",
    "def heapDij(graph,src):\n",
    "    dist = [sys.maxsize for node in graph]\n",
    "    S = [0 for node in graph]\n",
    "    dist[src] = 0\n",
    "    heap = [(0,src)]\n",
    "    heap_size = 1\n",
    "    while heap_size > 0:\n",
    "        currentDist , currentNode = heappop(heap)\n",
    "        heap_size -= 1\n",
    "        if (S[currentNode] == 1):\n",
    "            continue\n",
    "        S[currentNode] = 1\n",
    "        for neighbor, weight in graph[currentNode]:\n",
    "            distance = currentDist + weight\n",
    "            if distance < dist[neighbor]:\n",
    "                dist[neighbor] = distance\n",
    "                heappush(heap, (distance, neighbor))\n",
    "                heap_size += 1\n",
    "\n",
    "def heapDijRunTime(graph):\n",
    "    start = time.time()\n",
    "    heapDij(graph,0)\n",
    "    return time.time() - start"
   ]
  },
  {
   "cell_type": "code",
   "execution_count": 5,
   "metadata": {},
   "outputs": [],
   "source": [
    "vertices = [10,100,500,1000,10000]\n",
    "edges = [int(i*i/2) for i in vertices]\n",
    "runtimesMat = []\n",
    "runtimesList = []\n",
    "\n",
    "for i in range(len(vertices)):\n",
    "    graph = generateGraph(vertices[i],edges[i])\n",
    "    adjList = convert_matrix_to_list(graph)\n",
    "    runtimesMat.append(arrayDijRuntime(graph))\n",
    "    runtimesList.append(heapDijRunTime(adjList))\n"
   ]
  },
  {
   "cell_type": "code",
   "execution_count": 6,
   "metadata": {},
   "outputs": [
    {
     "data": {
      "text/plain": [
       "[<matplotlib.lines.Line2D at 0x12eca4c40>]"
      ]
     },
     "execution_count": 6,
     "metadata": {},
     "output_type": "execute_result"
    },
    {
     "data": {
      "image/png": "[encoded data removed]",
      "text/plain": [
       "<Figure size 640x480 with 1 Axes>"
      ]
     },
     "metadata": {},
     "output_type": "display_data"
    }
   ],
   "source": [
    "plt.plot(vertices,runtimesMat)\n",
    "plt.plot(vertices,runtimesList)\n"
   ]
  },
  {
   "cell_type": "code",
   "execution_count": 7,
   "metadata": {},
   "outputs": [],
   "source": [
    "vertices = range(1000,2500,50)\n",
    "edges = [10000 for i in vertices]\n",
    "runtimesMatV = []\n",
    "runtimesListV = []\n",
    "\n",
    "for i in range(len(vertices)):\n",
    "    graph = generateGraph(vertices[i],edges[i])\n",
    "    adjList = convert_matrix_to_list(graph)\n",
    "    runtimesMatV.append(arrayDijRuntime(graph))\n",
    "    runtimesListV.append(heapDijRunTime(adjList))\n"
   ]
  },
  {
   "cell_type": "code",
   "execution_count": 8,
   "metadata": {},
   "outputs": [
    {
     "data": {
      "text/plain": [
       "[<matplotlib.lines.Line2D at 0x12ec06400>]"
      ]
     },
     "execution_count": 8,
     "metadata": {},
     "output_type": "execute_result"
    },
    {
     "data": {
      "image/png": "[encoded data removed]",
      "text/plain": [
       "<Figure size 640x480 with 1 Axes>"
      ]
     },
     "metadata": {},
     "output_type": "display_data"
    }
   ],
   "source": [
    "plt.plot(vertices,runtimesMatV)\n",
    "plt.plot(vertices,runtimesListV)"
   ]
  }
 ],
 "metadata": {
  "kernelspec": {
   "display_name": "Python 3",
   "language": "python",
   "name": "python3"
  },
  "language_info": {
   "codemirror_mode": {
    "name": "ipython",
    "version": 3
   },
   "file_extension": ".py",
   "mimetype": "text/x-python",
   "name": "python",
   "nbconvert_exporter": "python",
   "pygments_lexer": "ipython3",
   "version": "3.9.1"
  },
  "orig_nbformat": 4
 },
 "nbformat": 4,
 "nbformat_minor": 2
}
